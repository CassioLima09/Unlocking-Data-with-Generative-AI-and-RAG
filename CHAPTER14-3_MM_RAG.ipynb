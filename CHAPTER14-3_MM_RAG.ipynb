{
 "cells": [
  {
   "cell_type": "code",
   "execution_count": null,
   "id": "2d124d22-de73-436b-86cd-9b162b469be8",
   "metadata": {
    "id": "2d124d22-de73-436b-86cd-9b162b469be8"
   },
   "outputs": [],
   "source": [
    "%pip install langchain_community\n",
    "%pip install langchain_experimental\n",
    "%pip install langchain-openai\n",
    "%pip install langchainhub\n",
    "%pip install chromadb\n",
    "%pip install langchain\n",
    "%pip install python-dotenv\n",
    "%pip install rank_bm25\n",
    "%pip install langchain_core\n",
    "\n",
    "# new packages to download for this code lab!\n",
    "%pip install \"unstructured[pdf]\"\n",
    "%pip install pillow\n",
    "%pip install pydantic\n",
    "%pip install lxml\n",
    "%pip install matplotlib\n",
    "%pip install tiktoken\n",
    "!sudo apt-get -y install poppler-utils\n",
    "!sudo apt-get -y install tesseract-ocr"
   ]
  },
  {
   "cell_type": "code",
   "execution_count": 1,
   "id": "f884314f-870c-4bfb-b6c1-a5b4801ec172",
   "metadata": {
    "executionInfo": {
     "elapsed": 10949,
     "status": "ok",
     "timestamp": 1718487838727,
     "user": {
      "displayName": "",
      "userId": ""
     },
     "user_tz": 240
    },
    "id": "f884314f-870c-4bfb-b6c1-a5b4801ec172"
   },
   "outputs": [],
   "source": [
    "import os\n",
    "import openai\n",
    "from langchain_openai import ChatOpenAI, OpenAIEmbeddings\n",
    "from langchain_core.output_parsers import StrOutputParser\n",
    "from langchain_core.runnables import RunnablePassthrough\n",
    "import chromadb\n",
    "from langchain_community.vectorstores import Chroma\n",
    "from dotenv import load_dotenv, find_dotenv\n",
    "from langchain.text_splitter import RecursiveCharacterTextSplitter\n",
    "from langchain_core.documents.base import Document\n",
    "\n",
    "# new\n",
    "from langchain.retrievers.multi_vector import MultiVectorRetriever\n",
    "from langchain_community.document_loaders import UnstructuredPDFLoader\n",
    "from langchain_core.runnables import RunnableLambda\n",
    "from langchain.storage import InMemoryStore\n",
    "from langchain_core.messages import HumanMessage\n",
    "import base64\n",
    "import uuid\n",
    "from IPython.display import HTML, display\n",
    "from PIL import Image\n",
    "import matplotlib.pyplot as plt"
   ]
  },
  {
   "cell_type": "code",
   "execution_count": null,
   "id": "a2a06702",
   "metadata": {
    "id": "a2a06702"
   },
   "outputs": [],
   "source": [
    "#### INDEXING ####"
   ]
  },
  {
   "cell_type": "code",
   "execution_count": 2,
   "id": "b44fbbb5",
   "metadata": {
    "executionInfo": {
     "elapsed": 507,
     "status": "ok",
     "timestamp": 1718487906128,
     "user": {
      "displayName": "",
      "userId": ""
     },
     "user_tz": 240
    },
    "id": "b44fbbb5"
   },
   "outputs": [],
   "source": [
    "# If you cannot use .env, save the file as env and use this code to access:\n",
    "_ = load_dotenv(dotenv_path='env.txt')\n",
    "os.environ['OPENAI_API_KEY'] = os.getenv('OPENAI_API_KEY')\n",
    "openai.api_key = os.environ['OPENAI_API_KEY']\n",
    "llm = ChatOpenAI(model_name=\"gpt-4o\", temperature=0)\n",
    "embedding_function = OpenAIEmbeddings()\n",
    "short_pdf_path = \"google-2023-environmental-report-short.pdf\"\n",
    "user_query = \"What are Google's environmental initiatives?\"\n",
    "str_output_parser = StrOutputParser()"
   ]
  },
  {
   "cell_type": "code",
   "execution_count": 3,
   "id": "06589e88",
   "metadata": {
    "colab": {
     "base_uri": "https://localhost:8080/",
     "height": 136,
     "referenced_widgets": [
      "59b608332cd74cb0b4cfeaef41698e01",
      "d40f81a1d39e40148a9fc98328b5f454",
      "75f6f7a4ef114186af44545e1ae2ebbf",
      "10cc265c297f4355a124fd4cdd5af7f4",
      "95da310d9dd14a85a43f170c433306d0",
      "a467a82ff9a7466d8ba5daaf0148559a",
      "5e7ef32b33964d1593f2f70719d03511",
      "0e137980c01347258d867313923988bf",
      "dedb51b7fee24a7b98a70528100d6ab1",
      "8d44e01b4d8c4fd78fa7902d9703e33c",
      "fc558588ceb9418cae6375d29b3d70c4"
     ]
    },
    "executionInfo": {
     "elapsed": 154689,
     "status": "ok",
     "timestamp": 1718488063754,
     "user": {
      "displayName": "",
      "userId": ""
     },
     "user_tz": 240
    },
    "id": "06589e88",
    "outputId": "fb3ccbdf-ba70-4619-f78e-da5920312b24"
   },
   "outputs": [
    {
     "name": "stderr",
     "output_type": "stream",
     "text": [
      "[nltk_data] Downloading package punkt to /root/nltk_data...\n",
      "[nltk_data]   Unzipping tokenizers/punkt.zip.\n",
      "[nltk_data] Downloading package averaged_perceptron_tagger to\n",
      "[nltk_data]     /root/nltk_data...\n",
      "[nltk_data]   Unzipping taggers/averaged_perceptron_tagger.zip.\n"
     ]
    },
    {
     "data": {
      "application/vnd.jupyter.widget-view+json": {
       "model_id": "59b608332cd74cb0b4cfeaef41698e01",
       "version_major": 2,
       "version_minor": 0
      },
      "text/plain": [
       "yolox_l0.05.onnx:   0%|          | 0.00/217M [00:00<?, ?B/s]"
      ]
     },
     "metadata": {},
     "output_type": "display_data"
    }
   ],
   "source": [
    "# Extract elements from PDF using LangChain and Unstructured - can take a little time to load!\n",
    "pdfloader = UnstructuredPDFLoader(\n",
    "    short_pdf_path,\n",
    "    mode=\"elements\",\n",
    "    strategy=\"hi_res\",\n",
    "    extract_image_block_types=[\"Image\",\"Table\"],\n",
    "    extract_image_block_to_payload=True, # converts images to base64 format\n",
    ")\n",
    "\n",
    "pdf_data = pdfloader.load()"
   ]
  },
  {
   "cell_type": "code",
   "execution_count": 4,
   "id": "174b019c",
   "metadata": {
    "colab": {
     "base_uri": "https://localhost:8080/"
    },
    "executionInfo": {
     "elapsed": 302,
     "status": "ok",
     "timestamp": 1718488095158,
     "user": {
      "displayName": "",
      "userId": ""
     },
     "user_tz": 240
    },
    "id": "174b019c",
    "outputId": "4a8e8fab-69da-494c-d332-54627f45d877"
   },
   "outputs": [
    {
     "name": "stdout",
     "output_type": "stream",
     "text": [
      "TOTAL DOCS USED BEFORE REDUCTION: texts: 78 images: 17\n",
      "CATEGORIES REPRESENTED: {'Footer', 'NarrativeText', 'Table', 'ListItem', 'Header', 'FigureCaption', 'Title', 'UncategorizedText', 'Image'}\n"
     ]
    }
   ],
   "source": [
    "texts = [doc for doc in pdf_data if doc.metadata[\"category\"] == \"NarrativeText\"]\n",
    "images = [doc for doc in pdf_data if doc.metadata[\"category\"] == \"Image\"]\n",
    "\n",
    "print(f\"TOTAL DOCS USED BEFORE REDUCTION: texts: {len(texts)} images: {len(images)}\")\n",
    "categories = set(doc.metadata[\"category\"] for doc in pdf_data)\n",
    "print(f\"CATEGORIES REPRESENTED: {categories}\")"
   ]
  },
  {
   "cell_type": "code",
   "execution_count": 5,
   "id": "912b5fc9",
   "metadata": {
    "colab": {
     "base_uri": "https://localhost:8080/"
    },
    "executionInfo": {
     "elapsed": 211,
     "status": "ok",
     "timestamp": 1718488100539,
     "user": {
      "displayName": "",
      "userId": ""
     },
     "user_tz": 240
    },
    "id": "912b5fc9",
    "outputId": "53579a2a-a349-471c-90c0-94e1678c3c93"
   },
   "outputs": [
    {
     "name": "stdout",
     "output_type": "stream",
     "text": [
      "total documents after reduction: texts: 78 images: 3\n"
     ]
    }
   ],
   "source": [
    "# cost savings: keep only the first 3 images to save compute costs for summarization\n",
    "if len(images) > 3:\n",
    "    images = images[:3]\n",
    "print(f\"total documents after reduction: texts: {len(texts)} images: {len(images)}\")"
   ]
  },
  {
   "cell_type": "code",
   "execution_count": 6,
   "id": "177f068d",
   "metadata": {
    "executionInfo": {
     "elapsed": 8121,
     "status": "ok",
     "timestamp": 1718488110430,
     "user": {
      "displayName": "",
      "userId": ""
     },
     "user_tz": 240
    },
    "id": "177f068d"
   },
   "outputs": [],
   "source": [
    "def apply_prompt(img_base64):\n",
    "    # Prompt\n",
    "    prompt = \"\"\"You are an assistant tasked with summarizing images for retrieval. \\\n",
    "    These summaries will be embedded and used to retrieve the raw image. \\\n",
    "    Give a concise summary of the image that is well optimized for retrieval.\"\"\"\n",
    "\n",
    "    return [HumanMessage(content=[\n",
    "        {\"type\": \"text\", \"text\": prompt},\n",
    "        {\"type\": \"image_url\",\"image_url\": {\"url\": f\"data:image/jpeg;base64,{img_base64}\"},},\n",
    "    ])]\n",
    "\n",
    "# Just using the existing text as text summaries to save money, but you can add summaries here too in more robust applications\n",
    "text_summaries = [doc.page_content for doc in texts]\n",
    "\n",
    "# Store base64 encoded images, image summaries\n",
    "img_base64_list = []\n",
    "image_summaries = []\n",
    "\n",
    "# Apply to images\n",
    "for img_doc in images:\n",
    "    base64_image = img_doc.metadata[\"image_base64\"]\n",
    "    img_base64_list.append(base64_image)\n",
    "    message = llm.invoke(apply_prompt(base64_image))\n",
    "    image_summaries.append(message.content)"
   ]
  },
  {
   "cell_type": "code",
   "execution_count": 7,
   "id": "adf3a446",
   "metadata": {
    "executionInfo": {
     "elapsed": 1098,
     "status": "ok",
     "timestamp": 1718488123525,
     "user": {
      "displayName": "",
      "userId": ""
     },
     "user_tz": 240
    },
    "id": "adf3a446"
   },
   "outputs": [],
   "source": [
    "vectorstore = Chroma(\n",
    "    collection_name=\"mm_rag_google_environmental\",\n",
    "    embedding_function=embedding_function\n",
    ")"
   ]
  },
  {
   "cell_type": "code",
   "execution_count": 8,
   "id": "0a55935a",
   "metadata": {
    "executionInfo": {
     "elapsed": 2553,
     "status": "ok",
     "timestamp": 1718488127918,
     "user": {
      "displayName": "",
      "userId": ""
     },
     "user_tz": 240
    },
    "id": "0a55935a"
   },
   "outputs": [],
   "source": [
    "# mult-vector retriever - initialize the storage layer\n",
    "store = InMemoryStore()\n",
    "id_key = \"doc_id\"\n",
    "\n",
    "# Create the multi-vector retriever\n",
    "retriever_multi_vector = MultiVectorRetriever(\n",
    "    vectorstore=vectorstore,\n",
    "    docstore=store,\n",
    "    id_key=id_key,\n",
    ")\n",
    "\n",
    "# Helper function to add documents to the vectorstore and docstore\n",
    "def add_documents(retriever, doc_summaries, doc_contents):\n",
    "    doc_ids = [str(uuid.uuid4()) for _ in doc_contents]\n",
    "    summary_docs = [\n",
    "        Document(page_content=s, metadata={id_key: doc_ids[i]})\n",
    "        for i, s in enumerate(doc_summaries)\n",
    "    ]\n",
    "    content_docs = [\n",
    "        Document(page_content=doc.page_content, metadata={id_key: doc_ids[i]})\n",
    "        for i, doc in enumerate(doc_contents)\n",
    "    ]\n",
    "    retriever.vectorstore.add_documents(summary_docs)\n",
    "    retriever.docstore.mset(list(zip(doc_ids, content_docs)))\n",
    "\n",
    "# Add texts and images to vectorstore, vectorization is handled automatically\n",
    "if text_summaries:\n",
    "    add_documents(retriever_multi_vector, text_summaries, texts)\n",
    "if image_summaries:\n",
    "    add_documents(retriever_multi_vector, image_summaries, images)"
   ]
  },
  {
   "cell_type": "code",
   "execution_count": null,
   "id": "f66095f8",
   "metadata": {
    "id": "f66095f8"
   },
   "outputs": [],
   "source": [
    "#### RETRIEVAL and GENERATION ####"
   ]
  },
  {
   "cell_type": "code",
   "execution_count": 11,
   "id": "ee91a987",
   "metadata": {
    "executionInfo": {
     "elapsed": 144,
     "status": "ok",
     "timestamp": 1718488162806,
     "user": {
      "displayName": "",
      "userId": ""
     },
     "user_tz": 240
    },
    "id": "ee91a987"
   },
   "outputs": [],
   "source": [
    "# Split base64-encoded images and texts\n",
    "def split_image_text_types(docs):\n",
    "    b64_images = []\n",
    "    texts = []\n",
    "    for doc in docs:\n",
    "        # Check if the document is of type Document\n",
    "        if isinstance(doc, Document):\n",
    "            if doc.metadata.get(\"category\") == \"Image\":\n",
    "                base64_image = doc.metadata[\"image_base64\"]\n",
    "                b64_images.append(base64_image)\n",
    "            else:\n",
    "                texts.append(doc.page_content)\n",
    "        else:\n",
    "            # Handle the case when doc is a string\n",
    "            if isinstance(doc, str):\n",
    "                texts.append(doc)\n",
    "    return {\"images\": b64_images, \"texts\": texts}\n",
    "\n",
    "def img_prompt_func(data_dict):\n",
    "    formatted_texts = \"\\n\".join(data_dict[\"context\"][\"texts\"])\n",
    "    messages = []\n",
    "\n",
    "    # Adding image(s) to the messages if present\n",
    "    if data_dict[\"context\"][\"images\"]:\n",
    "        for image in data_dict[\"context\"][\"images\"]:\n",
    "            image_message = {\"type\": \"image_url\",\"image_url\": {\"url\": f\"data:image/jpeg;base64,{image}\"}}\n",
    "            messages.append(image_message)\n",
    "\n",
    "    # Adding the text for analysis\n",
    "    text_message = {\n",
    "        \"type\": \"text\",\n",
    "        \"text\": (\n",
    "            \"You are are a helpful assistant tasked with describing what is in an image.\\n\"\n",
    "            \"The user will ask for a picture of something.  Provide text that supports what was asked for.\\n\"\n",
    "            \"Use this information to provide an in-depth description of the aesthetics of the image. \\n\"\n",
    "            \"Be clear and concise and don't offer any additional commentary. \\n\"\n",
    "            f\"User-provided question: {data_dict['question']}\\n\\n\"\n",
    "            \"Text and / or images:\\n\"\n",
    "            f\"{formatted_texts}\"\n",
    "        ),\n",
    "    }\n",
    "    messages.append(text_message)\n",
    "    return [HumanMessage(content=messages)]"
   ]
  },
  {
   "cell_type": "code",
   "execution_count": 12,
   "id": "bb1c4b48",
   "metadata": {
    "executionInfo": {
     "elapsed": 142,
     "status": "ok",
     "timestamp": 1718488164160,
     "user": {
      "displayName": "",
      "userId": ""
     },
     "user_tz": 240
    },
    "id": "bb1c4b48"
   },
   "outputs": [],
   "source": [
    "# Create RAG chain\n",
    "chain_multimodal_rag = (\n",
    "        {\"context\": retriever_multi_vector | RunnableLambda(split_image_text_types), \"question\": RunnablePassthrough()}\n",
    "        | RunnableLambda(img_prompt_func)\n",
    "        | llm\n",
    "        | str_output_parser\n",
    "    )"
   ]
  },
  {
   "cell_type": "code",
   "execution_count": 13,
   "id": "cfb8173c",
   "metadata": {
    "colab": {
     "base_uri": "https://localhost:8080/",
     "height": 174
    },
    "executionInfo": {
     "elapsed": 2677,
     "status": "ok",
     "timestamp": 1718488171300,
     "user": {
      "displayName": "",
      "userId": ""
     },
     "user_tz": 240
    },
    "id": "cfb8173c",
    "outputId": "51721a79-10a3-4b38-97bc-0b27c16c15bf"
   },
   "outputs": [
    {
     "data": {
      "application/vnd.google.colaboratory.intrinsic+json": {
       "type": "string"
      },
      "text/plain": [
       "'The image depicts a serene ocean scene with multiple wind turbines standing tall and gracefully in the water. The turbines are evenly spaced, their sleek, white blades contrasting against the deep blue of the ocean and the lighter blue of the sky. The horizon is clear, and the turbines stretch out into the distance, creating a sense of endless potential and tranquility. The overall aesthetic is one of modernity and sustainability, highlighting the harmony between advanced technology and the natural environment. The calm waters reflect the turbines, adding to the peaceful and clean energy theme of the image.'"
      ]
     },
     "execution_count": 13,
     "metadata": {},
     "output_type": "execute_result"
    }
   ],
   "source": [
    "# Question - relevant question\n",
    "user_query = \"Picture of multiple wind turbines in the ocean.\"\n",
    "chain_multimodal_rag.invoke(user_query)"
   ]
  },
  {
   "cell_type": "code",
   "execution_count": 14,
   "id": "42586d9e",
   "metadata": {
    "colab": {
     "base_uri": "https://localhost:8080/",
     "height": 694
    },
    "executionInfo": {
     "elapsed": 176,
     "status": "ok",
     "timestamp": 1718488180825,
     "user": {
      "displayName": "",
      "userId": ""
     },
     "user_tz": 240
    },
    "id": "42586d9e",
    "outputId": "ea365f55-6f41-4c2a-c72a-c5e8933b2b14"
   },
   "outputs": [
    {
     "data": {
      "text/html": [
       "<img src=\"data:image/jpeg;base64,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\" />"
      ],
      "text/plain": [
       "<IPython.core.display.HTML object>"
      ]
     },
     "metadata": {},
     "output_type": "display_data"
    }
   ],
   "source": [
    "# Display a base64 image by rendering it with HTML\n",
    "def plt_img_base64(img_base64):\n",
    "    image_html = f'<img src=\"data:image/jpeg;base64,{img_base64}\" />'\n",
    "    display(HTML(image_html))\n",
    "\n",
    "plt_img_base64(img_base64_list[1])"
   ]
  },
  {
   "cell_type": "code",
   "execution_count": 15,
   "id": "5d55c72e",
   "metadata": {
    "colab": {
     "base_uri": "https://localhost:8080/",
     "height": 52
    },
    "executionInfo": {
     "elapsed": 221,
     "status": "ok",
     "timestamp": 1718488183761,
     "user": {
      "displayName": "",
      "userId": ""
     },
     "user_tz": 240
    },
    "id": "5d55c72e",
    "outputId": "83eb1e52-a2e2-4be1-aa54-ce1e7067a301"
   },
   "outputs": [
    {
     "data": {
      "application/vnd.google.colaboratory.intrinsic+json": {
       "type": "string"
      },
      "text/plain": [
       "'Offshore wind farm with multiple wind turbines in the ocean, text \"What\\'s inside\" on the left side.'"
      ]
     },
     "execution_count": 15,
     "metadata": {},
     "output_type": "execute_result"
    }
   ],
   "source": [
    "image_summaries[1] # matches index of the image."
   ]
  }
 ],
 "metadata": {
  "colab": {
   "name": "CHAPTER14-3_MM_RAG.ipynb",
   "provenance": []
  },
  "kernelspec": {
   "display_name": "Python 3 (ipykernel)",
   "language": "python",
   "name": "python3"
  },
  "language_info": {
   "codemirror_mode": {
    "name": "ipython",
    "version": 3
   },
   "file_extension": ".py",
   "mimetype": "text/x-python",
   "name": "python",
   "nbconvert_exporter": "python",
   "pygments_lexer": "ipython3",
   "version": "3.11.6"
  },
  "vscode": {
   "interpreter": {
    "hash": "e7370f93d1d0cde622a1f8e1c04877d8463912d04d973331ad4851f04de6915a"
   }
  },
  "widgets": {
   "application/vnd.jupyter.widget-state+json": {
    "0e137980c01347258d867313923988bf": {
     "model_module": "@jupyter-widgets/base",
     "model_module_version": "1.2.0",
     "model_name": "LayoutModel",
     "state": {
      "_model_module": "@jupyter-widgets/base",
      "_model_module_version": "1.2.0",
      "_model_name": "LayoutModel",
      "_view_count": null,
      "_view_module": "@jupyter-widgets/base",
      "_view_module_version": "1.2.0",
      "_view_name": "LayoutView",
      "align_content": null,
      "align_items": null,
      "align_self": null,
      "border": null,
      "bottom": null,
      "display": null,
      "flex": null,
      "flex_flow": null,
      "grid_area": null,
      "grid_auto_columns": null,
      "grid_auto_flow": null,
      "grid_auto_rows": null,
      "grid_column": null,
      "grid_gap": null,
      "grid_row": null,
      "grid_template_areas": null,
      "grid_template_columns": null,
      "grid_template_rows": null,
      "height": null,
      "justify_content": null,
      "justify_items": null,
      "left": null,
      "margin": null,
      "max_height": null,
      "max_width": null,
      "min_height": null,
      "min_width": null,
      "object_fit": null,
      "object_position": null,
      "order": null,
      "overflow": null,
      "overflow_x": null,
      "overflow_y": null,
      "padding": null,
      "right": null,
      "top": null,
      "visibility": null,
      "width": null
     }
    },
    "10cc265c297f4355a124fd4cdd5af7f4": {
     "model_module": "@jupyter-widgets/controls",
     "model_module_version": "1.5.0",
     "model_name": "HTMLModel",
     "state": {
      "_dom_classes": [],
      "_model_module": "@jupyter-widgets/controls",
      "_model_module_version": "1.5.0",
      "_model_name": "HTMLModel",
      "_view_count": null,
      "_view_module": "@jupyter-widgets/controls",
      "_view_module_version": "1.5.0",
      "_view_name": "HTMLView",
      "description": "",
      "description_tooltip": null,
      "layout": "IPY_MODEL_8d44e01b4d8c4fd78fa7902d9703e33c",
      "placeholder": "​",
      "style": "IPY_MODEL_fc558588ceb9418cae6375d29b3d70c4",
      "value": " 217M/217M [00:01&lt;00:00, 155MB/s]"
     }
    },
    "59b608332cd74cb0b4cfeaef41698e01": {
     "model_module": "@jupyter-widgets/controls",
     "model_module_version": "1.5.0",
     "model_name": "HBoxModel",
     "state": {
      "_dom_classes": [],
      "_model_module": "@jupyter-widgets/controls",
      "_model_module_version": "1.5.0",
      "_model_name": "HBoxModel",
      "_view_count": null,
      "_view_module": "@jupyter-widgets/controls",
      "_view_module_version": "1.5.0",
      "_view_name": "HBoxView",
      "box_style": "",
      "children": [
       "IPY_MODEL_d40f81a1d39e40148a9fc98328b5f454",
       "IPY_MODEL_75f6f7a4ef114186af44545e1ae2ebbf",
       "IPY_MODEL_10cc265c297f4355a124fd4cdd5af7f4"
      ],
      "layout": "IPY_MODEL_95da310d9dd14a85a43f170c433306d0"
     }
    },
    "5e7ef32b33964d1593f2f70719d03511": {
     "model_module": "@jupyter-widgets/controls",
     "model_module_version": "1.5.0",
     "model_name": "DescriptionStyleModel",
     "state": {
      "_model_module": "@jupyter-widgets/controls",
      "_model_module_version": "1.5.0",
      "_model_name": "DescriptionStyleModel",
      "_view_count": null,
      "_view_module": "@jupyter-widgets/base",
      "_view_module_version": "1.2.0",
      "_view_name": "StyleView",
      "description_width": ""
     }
    },
    "75f6f7a4ef114186af44545e1ae2ebbf": {
     "model_module": "@jupyter-widgets/controls",
     "model_module_version": "1.5.0",
     "model_name": "FloatProgressModel",
     "state": {
      "_dom_classes": [],
      "_model_module": "@jupyter-widgets/controls",
      "_model_module_version": "1.5.0",
      "_model_name": "FloatProgressModel",
      "_view_count": null,
      "_view_module": "@jupyter-widgets/controls",
      "_view_module_version": "1.5.0",
      "_view_name": "ProgressView",
      "bar_style": "success",
      "description": "",
      "description_tooltip": null,
      "layout": "IPY_MODEL_0e137980c01347258d867313923988bf",
      "max": 216625723,
      "min": 0,
      "orientation": "horizontal",
      "style": "IPY_MODEL_dedb51b7fee24a7b98a70528100d6ab1",
      "value": 216625723
     }
    },
    "8d44e01b4d8c4fd78fa7902d9703e33c": {
     "model_module": "@jupyter-widgets/base",
     "model_module_version": "1.2.0",
     "model_name": "LayoutModel",
     "state": {
      "_model_module": "@jupyter-widgets/base",
      "_model_module_version": "1.2.0",
      "_model_name": "LayoutModel",
      "_view_count": null,
      "_view_module": "@jupyter-widgets/base",
      "_view_module_version": "1.2.0",
      "_view_name": "LayoutView",
      "align_content": null,
      "align_items": null,
      "align_self": null,
      "border": null,
      "bottom": null,
      "display": null,
      "flex": null,
      "flex_flow": null,
      "grid_area": null,
      "grid_auto_columns": null,
      "grid_auto_flow": null,
      "grid_auto_rows": null,
      "grid_column": null,
      "grid_gap": null,
      "grid_row": null,
      "grid_template_areas": null,
      "grid_template_columns": null,
      "grid_template_rows": null,
      "height": null,
      "justify_content": null,
      "justify_items": null,
      "left": null,
      "margin": null,
      "max_height": null,
      "max_width": null,
      "min_height": null,
      "min_width": null,
      "object_fit": null,
      "object_position": null,
      "order": null,
      "overflow": null,
      "overflow_x": null,
      "overflow_y": null,
      "padding": null,
      "right": null,
      "top": null,
      "visibility": null,
      "width": null
     }
    },
    "95da310d9dd14a85a43f170c433306d0": {
     "model_module": "@jupyter-widgets/base",
     "model_module_version": "1.2.0",
     "model_name": "LayoutModel",
     "state": {
      "_model_module": "@jupyter-widgets/base",
      "_model_module_version": "1.2.0",
      "_model_name": "LayoutModel",
      "_view_count": null,
      "_view_module": "@jupyter-widgets/base",
      "_view_module_version": "1.2.0",
      "_view_name": "LayoutView",
      "align_content": null,
      "align_items": null,
      "align_self": null,
      "border": null,
      "bottom": null,
      "display": null,
      "flex": null,
      "flex_flow": null,
      "grid_area": null,
      "grid_auto_columns": null,
      "grid_auto_flow": null,
      "grid_auto_rows": null,
      "grid_column": null,
      "grid_gap": null,
      "grid_row": null,
      "grid_template_areas": null,
      "grid_template_columns": null,
      "grid_template_rows": null,
      "height": null,
      "justify_content": null,
      "justify_items": null,
      "left": null,
      "margin": null,
      "max_height": null,
      "max_width": null,
      "min_height": null,
      "min_width": null,
      "object_fit": null,
      "object_position": null,
      "order": null,
      "overflow": null,
      "overflow_x": null,
      "overflow_y": null,
      "padding": null,
      "right": null,
      "top": null,
      "visibility": null,
      "width": null
     }
    },
    "a467a82ff9a7466d8ba5daaf0148559a": {
     "model_module": "@jupyter-widgets/base",
     "model_module_version": "1.2.0",
     "model_name": "LayoutModel",
     "state": {
      "_model_module": "@jupyter-widgets/base",
      "_model_module_version": "1.2.0",
      "_model_name": "LayoutModel",
      "_view_count": null,
      "_view_module": "@jupyter-widgets/base",
      "_view_module_version": "1.2.0",
      "_view_name": "LayoutView",
      "align_content": null,
      "align_items": null,
      "align_self": null,
      "border": null,
      "bottom": null,
      "display": null,
      "flex": null,
      "flex_flow": null,
      "grid_area": null,
      "grid_auto_columns": null,
      "grid_auto_flow": null,
      "grid_auto_rows": null,
      "grid_column": null,
      "grid_gap": null,
      "grid_row": null,
      "grid_template_areas": null,
      "grid_template_columns": null,
      "grid_template_rows": null,
      "height": null,
      "justify_content": null,
      "justify_items": null,
      "left": null,
      "margin": null,
      "max_height": null,
      "max_width": null,
      "min_height": null,
      "min_width": null,
      "object_fit": null,
      "object_position": null,
      "order": null,
      "overflow": null,
      "overflow_x": null,
      "overflow_y": null,
      "padding": null,
      "right": null,
      "top": null,
      "visibility": null,
      "width": null
     }
    },
    "d40f81a1d39e40148a9fc98328b5f454": {
     "model_module": "@jupyter-widgets/controls",
     "model_module_version": "1.5.0",
     "model_name": "HTMLModel",
     "state": {
      "_dom_classes": [],
      "_model_module": "@jupyter-widgets/controls",
      "_model_module_version": "1.5.0",
      "_model_name": "HTMLModel",
      "_view_count": null,
      "_view_module": "@jupyter-widgets/controls",
      "_view_module_version": "1.5.0",
      "_view_name": "HTMLView",
      "description": "",
      "description_tooltip": null,
      "layout": "IPY_MODEL_a467a82ff9a7466d8ba5daaf0148559a",
      "placeholder": "​",
      "style": "IPY_MODEL_5e7ef32b33964d1593f2f70719d03511",
      "value": "yolox_l0.05.onnx: 100%"
     }
    },
    "dedb51b7fee24a7b98a70528100d6ab1": {
     "model_module": "@jupyter-widgets/controls",
     "model_module_version": "1.5.0",
     "model_name": "ProgressStyleModel",
     "state": {
      "_model_module": "@jupyter-widgets/controls",
      "_model_module_version": "1.5.0",
      "_model_name": "ProgressStyleModel",
      "_view_count": null,
      "_view_module": "@jupyter-widgets/base",
      "_view_module_version": "1.2.0",
      "_view_name": "StyleView",
      "bar_color": null,
      "description_width": ""
     }
    },
    "fc558588ceb9418cae6375d29b3d70c4": {
     "model_module": "@jupyter-widgets/controls",
     "model_module_version": "1.5.0",
     "model_name": "DescriptionStyleModel",
     "state": {
      "_model_module": "@jupyter-widgets/controls",
      "_model_module_version": "1.5.0",
      "_model_name": "DescriptionStyleModel",
      "_view_count": null,
      "_view_module": "@jupyter-widgets/base",
      "_view_module_version": "1.2.0",
      "_view_name": "StyleView",
      "description_width": ""
     }
    }
   }
  }
 },
 "nbformat": 4,
 "nbformat_minor": 5
}
